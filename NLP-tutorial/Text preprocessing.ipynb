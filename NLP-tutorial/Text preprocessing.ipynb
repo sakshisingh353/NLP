{
 "cells": [
  {
   "cell_type": "markdown",
   "id": "36c0e750",
   "metadata": {},
   "source": [
    "## Lowercase"
   ]
  },
  {
   "cell_type": "code",
   "execution_count": 112,
   "id": "f526bebd",
   "metadata": {},
   "outputs": [],
   "source": [
    "sentence=\"India, officially the Republic of India (ISO: Bhārat Gaṇarājya), is a country in South Asia. It is the seventh-largest country by area; the most populous country as of June 2023;and from the time of its independence in 1947, the world's most populous democracy.Bounded by the Indian Ocean on the south, the Arabian Sea on the southwest, and the Bay of Bengal on the southeast, it shares land borders with Pakistan to the west;[j] China, Nepal, and Bhutan to the north; and Bangladesh and Myanmar to the east. In the Indian Ocean, India is in the vicinity of Sri Lanka and the Maldives; its Andaman and Nicobar Islands share a maritime border with Thailand, Myanmar, and Indonesia.\""
   ]
  },
  {
   "cell_type": "code",
   "execution_count": 113,
   "id": "b26922b0",
   "metadata": {},
   "outputs": [],
   "source": [
    "lower_sentence=sentence.lower()"
   ]
  },
  {
   "cell_type": "code",
   "execution_count": 114,
   "id": "f3c9aa8e",
   "metadata": {},
   "outputs": [
    {
     "data": {
      "text/plain": [
       "\"india, officially the republic of india (iso: bhārat gaṇarājya), is a country in south asia. it is the seventh-largest country by area; the most populous country as of june 2023;and from the time of its independence in 1947, the world's most populous democracy.bounded by the indian ocean on the south, the arabian sea on the southwest, and the bay of bengal on the southeast, it shares land borders with pakistan to the west;[j] china, nepal, and bhutan to the north; and bangladesh and myanmar to the east. in the indian ocean, india is in the vicinity of sri lanka and the maldives; its andaman and nicobar islands share a maritime border with thailand, myanmar, and indonesia.\""
      ]
     },
     "execution_count": 114,
     "metadata": {},
     "output_type": "execute_result"
    }
   ],
   "source": [
    "lower_sentence"
   ]
  },
  {
   "cell_type": "code",
   "execution_count": 45,
   "id": "c90ab078",
   "metadata": {},
   "outputs": [],
   "source": [
    "#Lower case in list of sentences\n",
    "sentence_list=[\"NLP is very helpful in Processing texts\",\n",
    "              \"Examples of NLP, Sentimental Analysis, Chatbots etc\",\n",
    "              \"Studing NLP\"]"
   ]
  },
  {
   "cell_type": "code",
   "execution_count": 46,
   "id": "3072e0c8",
   "metadata": {},
   "outputs": [],
   "source": [
    "lower_sentence_list=[]\n",
    "for i in sentence_list:\n",
    "    lower_sentence_list.append(i.lower())\n",
    "    "
   ]
  },
  {
   "cell_type": "code",
   "execution_count": 47,
   "id": "ab9885dc",
   "metadata": {},
   "outputs": [
    {
     "data": {
      "text/plain": [
       "['nlp is very helpful in processing texts',\n",
       " 'examples of nlp, sentimental analysis, chatbots etc',\n",
       " 'studing nlp']"
      ]
     },
     "execution_count": 47,
     "metadata": {},
     "output_type": "execute_result"
    }
   ],
   "source": [
    "lower_sentence_list"
   ]
  },
  {
   "cell_type": "code",
   "execution_count": 48,
   "id": "eb959886",
   "metadata": {},
   "outputs": [],
   "source": [
    "#writing the above using list comprehension\n",
    "lower_sentence_list=[i.lower() for i in sentence_list]"
   ]
  },
  {
   "cell_type": "code",
   "execution_count": 49,
   "id": "ba5271c8",
   "metadata": {},
   "outputs": [
    {
     "data": {
      "text/plain": [
       "['nlp is very helpful in processing texts',\n",
       " 'examples of nlp, sentimental analysis, chatbots etc',\n",
       " 'studing nlp']"
      ]
     },
     "execution_count": 49,
     "metadata": {},
     "output_type": "execute_result"
    }
   ],
   "source": [
    "lower_sentence_list"
   ]
  },
  {
   "cell_type": "markdown",
   "id": "956e55a9",
   "metadata": {},
   "source": [
    "## stopwords"
   ]
  },
  {
   "cell_type": "code",
   "execution_count": 50,
   "id": "7cc94507",
   "metadata": {},
   "outputs": [
    {
     "name": "stderr",
     "output_type": "stream",
     "text": [
      "[nltk_data] Downloading package stopwords to\n",
      "[nltk_data]     /Users/sakshisingh/nltk_data...\n",
      "[nltk_data]   Package stopwords is already up-to-date!\n"
     ]
    }
   ],
   "source": [
    "import nltk\n",
    "nltk.download('stopwords')\n",
    "from nltk.corpus import stopwords"
   ]
  },
  {
   "cell_type": "code",
   "execution_count": 51,
   "id": "36f65ff9",
   "metadata": {},
   "outputs": [],
   "source": [
    "en_stopwords=stopwords.words('english')"
   ]
  },
  {
   "cell_type": "code",
   "execution_count": 52,
   "id": "f6c79908",
   "metadata": {},
   "outputs": [
    {
     "name": "stdout",
     "output_type": "stream",
     "text": [
      "['i', 'me', 'my', 'myself', 'we', 'our', 'ours', 'ourselves', 'you', \"you're\", \"you've\", \"you'll\", \"you'd\", 'your', 'yours', 'yourself', 'yourselves', 'he', 'him', 'his', 'himself', 'she', \"she's\", 'her', 'hers', 'herself', 'it', \"it's\", 'its', 'itself', 'they', 'them', 'their', 'theirs', 'themselves', 'what', 'which', 'who', 'whom', 'this', 'that', \"that'll\", 'these', 'those', 'am', 'is', 'are', 'was', 'were', 'be', 'been', 'being', 'have', 'has', 'had', 'having', 'do', 'does', 'did', 'doing', 'a', 'an', 'the', 'and', 'but', 'if', 'or', 'because', 'as', 'until', 'while', 'of', 'at', 'by', 'for', 'with', 'about', 'against', 'between', 'into', 'through', 'during', 'before', 'after', 'above', 'below', 'to', 'from', 'up', 'down', 'in', 'out', 'on', 'off', 'over', 'under', 'again', 'further', 'then', 'once', 'here', 'there', 'when', 'where', 'why', 'how', 'all', 'any', 'both', 'each', 'few', 'more', 'most', 'other', 'some', 'such', 'no', 'nor', 'not', 'only', 'own', 'same', 'so', 'than', 'too', 'very', 's', 't', 'can', 'will', 'just', 'don', \"don't\", 'should', \"should've\", 'now', 'd', 'll', 'm', 'o', 're', 've', 'y', 'ain', 'aren', \"aren't\", 'couldn', \"couldn't\", 'didn', \"didn't\", 'doesn', \"doesn't\", 'hadn', \"hadn't\", 'hasn', \"hasn't\", 'haven', \"haven't\", 'isn', \"isn't\", 'ma', 'mightn', \"mightn't\", 'mustn', \"mustn't\", 'needn', \"needn't\", 'shan', \"shan't\", 'shouldn', \"shouldn't\", 'wasn', \"wasn't\", 'weren', \"weren't\", 'won', \"won't\", 'wouldn', \"wouldn't\"]\n"
     ]
    }
   ],
   "source": [
    "print(en_stopwords)"
   ]
  },
  {
   "cell_type": "code",
   "execution_count": 53,
   "id": "6d8807e2",
   "metadata": {},
   "outputs": [],
   "source": [
    "sentence_notstopwords=[]\n",
    "for i in sentence.split():\n",
    "    if i not in en_stopwords:\n",
    "        sentence_notstopwords.append(i)\n",
    "        \n",
    "sentence_notstopwords=' '.join(sentence_notstopwords)"
   ]
  },
  {
   "cell_type": "code",
   "execution_count": 54,
   "id": "46a03f8e",
   "metadata": {},
   "outputs": [
    {
     "data": {
      "text/plain": [
       "\"India, officially Republic India (ISO: Bhārat Gaṇarājya), country South Asia. It seventh-largest country area; populous country June 2023;and time independence 1947, world's populous democracy.Bounded Indian Ocean south, Arabian Sea southwest, Bay Bengal southeast, shares land borders Pakistan west;[j] China, Nepal, Bhutan north; Bangladesh Myanmar east. In Indian Ocean, India vicinity Sri Lanka Maldives; Andaman Nicobar Islands share maritime border Thailand, Myanmar, Indonesia.\""
      ]
     },
     "execution_count": 54,
     "metadata": {},
     "output_type": "execute_result"
    }
   ],
   "source": [
    "sentence_notstopwords"
   ]
  },
  {
   "cell_type": "raw",
   "id": "1d0de2e5",
   "metadata": {},
   "source": [
    "1.As we can see \"it\" is also a stopword but from the above sentence it is not removed as its in uppercase and in en_stopwords the words are in lowercase.\n",
    "2.So lowering the words are required."
   ]
  },
  {
   "cell_type": "code",
   "execution_count": 55,
   "id": "7d726732",
   "metadata": {},
   "outputs": [],
   "source": [
    "#Trying stopwords with lowercase\n",
    "sentence_notstopwords=[]\n",
    "for i in lower_sentence.split():\n",
    "    if i not in en_stopwords:\n",
    "        sentence_notstopwords.append(i)\n",
    "        \n",
    "sentence_notstopwords=' '.join(sentence_notstopwords)"
   ]
  },
  {
   "cell_type": "code",
   "execution_count": 56,
   "id": "51d30032",
   "metadata": {},
   "outputs": [
    {
     "data": {
      "text/plain": [
       "\"india, officially republic india (iso: bhārat gaṇarājya), country south asia. seventh-largest country area; populous country june 2023;and time independence 1947, world's populous democracy.bounded indian ocean south, arabian sea southwest, bay bengal southeast, shares land borders pakistan west;[j] china, nepal, bhutan north; bangladesh myanmar east. indian ocean, india vicinity sri lanka maldives; andaman nicobar islands share maritime border thailand, myanmar, indonesia.\""
      ]
     },
     "execution_count": 56,
     "metadata": {},
     "output_type": "execute_result"
    }
   ],
   "source": [
    "sentence_notstopwords"
   ]
  },
  {
   "cell_type": "code",
   "execution_count": 57,
   "id": "c1394846",
   "metadata": {},
   "outputs": [],
   "source": [
    "#Using list comprehension\n",
    "sentence_notstopwords=' '.join([i for i in lower_sentence.split() if i not in en_stopwords])"
   ]
  },
  {
   "cell_type": "code",
   "execution_count": 58,
   "id": "d26746e4",
   "metadata": {},
   "outputs": [
    {
     "data": {
      "text/plain": [
       "\"india, officially republic india (iso: bhārat gaṇarājya), country south asia. seventh-largest country area; populous country june 2023;and time independence 1947, world's populous democracy.bounded indian ocean south, arabian sea southwest, bay bengal southeast, shares land borders pakistan west;[j] china, nepal, bhutan north; bangladesh myanmar east. indian ocean, india vicinity sri lanka maldives; andaman nicobar islands share maritime border thailand, myanmar, indonesia.\""
      ]
     },
     "execution_count": 58,
     "metadata": {},
     "output_type": "execute_result"
    }
   ],
   "source": [
    "sentence_notstopwords"
   ]
  },
  {
   "cell_type": "raw",
   "id": "2d1396dd",
   "metadata": {},
   "source": [
    "1.We can create our own stop words as per the requirement\n",
    "2.In en_stopwords which is already a list of stopwords we can append our own stop words and use it further.\n",
    "    en_stopwords.append(\"go\")\n",
    "3.If you want some stopwords to be present and not removed you can remove those words from the list of stopwords.\n",
    "    en_stopwords.remove(\"is\")\n"
   ]
  },
  {
   "cell_type": "code",
   "execution_count": 27,
   "id": "db7c6c39",
   "metadata": {},
   "outputs": [
    {
     "name": "stdout",
     "output_type": "stream",
     "text": [
      "[\"Don't\", 'hesitate', 'to', 'ask']\n"
     ]
    }
   ],
   "source": [
    "stops = (\"your\",\"stop\",\"words\",\"questions\")\n",
    "words=[\"Don't\", 'hesitate','to','ask','questions']\n",
    "print([word for word in words if word not in stops])"
   ]
  },
  {
   "cell_type": "markdown",
   "id": "858f7827",
   "metadata": {},
   "source": [
    "## Regular expressions"
   ]
  },
  {
   "cell_type": "code",
   "execution_count": 60,
   "id": "9e381a1f",
   "metadata": {},
   "outputs": [],
   "source": [
    "import re"
   ]
  },
  {
   "cell_type": "raw",
   "id": "a21845a6",
   "metadata": {},
   "source": [
    "/n -new line"
   ]
  },
  {
   "cell_type": "code",
   "execution_count": 62,
   "id": "a52316cf",
   "metadata": {},
   "outputs": [
    {
     "name": "stdout",
     "output_type": "stream",
     "text": [
      "C:\\desktop\n",
      "otes\n"
     ]
    }
   ],
   "source": [
    "my_folder=\"C:\\desktop\\notes\"\n",
    "print(my_folder)"
   ]
  },
  {
   "cell_type": "code",
   "execution_count": 64,
   "id": "c6ef01b9",
   "metadata": {},
   "outputs": [
    {
     "name": "stdout",
     "output_type": "stream",
     "text": [
      "C:\\desktop\\notes\n"
     ]
    }
   ],
   "source": [
    "#putting states row string\n",
    "my_folder=r\"C:\\desktop\\notes\"\n",
    "print(my_folder)"
   ]
  },
  {
   "cell_type": "markdown",
   "id": "11265291",
   "metadata": {},
   "source": [
    "#### search pattern in the string"
   ]
  },
  {
   "cell_type": "code",
   "execution_count": 69,
   "id": "de3af052",
   "metadata": {},
   "outputs": [
    {
     "data": {
      "text/plain": [
       "<re.Match object; span=(203, 215), match='independence'>"
      ]
     },
     "execution_count": 69,
     "metadata": {},
     "output_type": "execute_result"
    }
   ],
   "source": [
    "result_search=re.search(\"independence\",sentence)\n",
    "result_search"
   ]
  },
  {
   "cell_type": "code",
   "execution_count": 71,
   "id": "53d2aa0e",
   "metadata": {},
   "outputs": [
    {
     "name": "stdout",
     "output_type": "stream",
     "text": [
      "None\n"
     ]
    }
   ],
   "source": [
    "result_search=re.search(\"my\",sentence)\n",
    "print(result_search)"
   ]
  },
  {
   "cell_type": "markdown",
   "id": "60efde89",
   "metadata": {},
   "source": [
    "#### replacing text\n",
    "##### re.sub(\"pattern\",\"replacement_text\",\"string\")"
   ]
  },
  {
   "cell_type": "code",
   "execution_count": 74,
   "id": "37f1f651",
   "metadata": {},
   "outputs": [],
   "source": [
    "string=r\"sakshi was able to help me and find the items I needed quickly\""
   ]
  },
  {
   "cell_type": "code",
   "execution_count": 75,
   "id": "89bfff67",
   "metadata": {},
   "outputs": [
    {
     "name": "stdout",
     "output_type": "stream",
     "text": [
      "sakshi was able to help me to find the items I needed quickly\n"
     ]
    }
   ],
   "source": [
    "new_string=re.sub(\"and\",\"to\",string)\n",
    "print(new_string)"
   ]
  },
  {
   "cell_type": "code",
   "execution_count": 96,
   "id": "1a027943",
   "metadata": {},
   "outputs": [],
   "source": [
    "reviews=[\"sakshi is very,polite\",\n",
    "        \"Lucy was impatient and rude.\",\n",
    "        \"sarah helped in finding the items\",\n",
    "        \"sara quickly managed to find ,the potatoes\",\n",
    "        \"rajat is great addition to the team.\",\n",
    "        \"raja was working very fast\",\n",
    "        \"great service from sara\"]"
   ]
  },
  {
   "cell_type": "code",
   "execution_count": 83,
   "id": "0f9f5585",
   "metadata": {},
   "outputs": [],
   "source": [
    "pattern_to_find=r'raja?'"
   ]
  },
  {
   "cell_type": "code",
   "execution_count": 84,
   "id": "a25f52d1",
   "metadata": {},
   "outputs": [],
   "source": [
    "rajat_reviews=[]\n",
    "for string in reviews:\n",
    "    if (re.search(pattern_to_find,string)):\n",
    "        rajat_reviews.append(string)\n",
    "    \n",
    "    "
   ]
  },
  {
   "cell_type": "code",
   "execution_count": 85,
   "id": "f64b0c35",
   "metadata": {},
   "outputs": [
    {
     "data": {
      "text/plain": [
       "['rajat is great addition to the team', 'raja was working very fast']"
      ]
     },
     "execution_count": 85,
     "metadata": {},
     "output_type": "execute_result"
    }
   ],
   "source": [
    "rajat_reviews"
   ]
  },
  {
   "cell_type": "code",
   "execution_count": 88,
   "id": "9d4d0d4e",
   "metadata": {},
   "outputs": [
    {
     "name": "stdout",
     "output_type": "stream",
     "text": [
      "['sakshi is very polite', 'sarah helped in finding the items', 'sara quickly managed to find the potatoes']\n"
     ]
    }
   ],
   "source": [
    "#checking string starting for letter s\n",
    "letter_s=[]\n",
    "pattern_to_find=r\"^s\"\n",
    "for string in reviews:\n",
    "    if (re.search(pattern_to_find,string)):\n",
    "        letter_s.append(string)\n",
    "print(letter_s)\n",
    "    "
   ]
  },
  {
   "cell_type": "code",
   "execution_count": 91,
   "id": "04c82d9a",
   "metadata": {},
   "outputs": [
    {
     "name": "stdout",
     "output_type": "stream",
     "text": [
      "['sakshi is very polite', 'Lucy was impatient and rude']\n"
     ]
    }
   ],
   "source": [
    "#checking string ending for letter e\n",
    "letter_e=[]\n",
    "pattern_to_find=r\"e$\"\n",
    "for string in reviews:\n",
    "    if (re.search(pattern_to_find,string)):\n",
    "        letter_e.append(string)\n",
    "print(letter_e)\n",
    "    "
   ]
  },
  {
   "cell_type": "code",
   "execution_count": 95,
   "id": "ae849cdf",
   "metadata": {},
   "outputs": [
    {
     "name": "stdout",
     "output_type": "stream",
     "text": [
      "['sara quickly managed to find the potatoes', 'rajat is great addition to the team', 'raja was working very fast']\n"
     ]
    }
   ],
   "source": [
    "#find reviews that match more than one word\n",
    "reviews_match=[]\n",
    "pattern_to_find=r\"(rajat?|manage)\"\n",
    "for string in reviews:\n",
    "    if (re.search(pattern_to_find,string)):\n",
    "        reviews_match.append(string)\n",
    "print(reviews_match)\n",
    "    "
   ]
  },
  {
   "cell_type": "code",
   "execution_count": 102,
   "id": "204cbc62",
   "metadata": {},
   "outputs": [],
   "source": [
    "## removing punctuation from the strings\n",
    "no_punct_reviews=[]\n",
    "pattern_to_find=r'[^\\w\\s]' #anything which is not a word or space"
   ]
  },
  {
   "cell_type": "code",
   "execution_count": 101,
   "id": "b54fa8af",
   "metadata": {},
   "outputs": [
    {
     "name": "stdout",
     "output_type": "stream",
     "text": [
      "['sakshi is very,polite', 'Lucy was impatient and rude.', 'sara quickly managed to find ,the potatoes', 'rajat is great addition to the team.', 'sakshi is very,polite', 'Lucy was impatient and rude.', 'sara quickly managed to find ,the potatoes', 'rajat is great addition to the team.']\n"
     ]
    }
   ],
   "source": [
    "for string in reviews:\n",
    "    if (re.search(pattern_to_find,string)):\n",
    "        no_punct_reviews.append(string)\n",
    "print(no_punct_reviews)\n",
    "    "
   ]
  },
  {
   "cell_type": "code",
   "execution_count": 103,
   "id": "59b5dee0",
   "metadata": {},
   "outputs": [
    {
     "name": "stdout",
     "output_type": "stream",
     "text": [
      "['sakshi is verypolite', 'Lucy was impatient and rude', 'sarah helped in finding the items', 'sara quickly managed to find the potatoes', 'rajat is great addition to the team', 'raja was working very fast', 'great service from sara']\n"
     ]
    }
   ],
   "source": [
    "for string in reviews:\n",
    "    no_puct_strings=re.sub(pattern_to_find,\"\",string)\n",
    "    no_punct_reviews.append(no_puct_strings)\n",
    "print(no_punct_reviews)"
   ]
  },
  {
   "cell_type": "markdown",
   "id": "fc7047b2",
   "metadata": {},
   "source": [
    "## Tokenization"
   ]
  },
  {
   "cell_type": "code",
   "execution_count": 105,
   "id": "c73491b5",
   "metadata": {},
   "outputs": [
    {
     "name": "stderr",
     "output_type": "stream",
     "text": [
      "[nltk_data] Downloading package punkt to\n",
      "[nltk_data]     /Users/sakshisingh/nltk_data...\n",
      "[nltk_data]   Package punkt is already up-to-date!\n"
     ]
    }
   ],
   "source": [
    "nltk.download('punkt')\n",
    "from nltk.tokenize import word_tokenize,sent_tokenize,wordpunct_tokenize,blankline_tokenize,casual_tokenize,line_tokenize"
   ]
  },
  {
   "cell_type": "markdown",
   "id": "4e2eb925",
   "metadata": {},
   "source": [
    "#### sent tokenize\n",
    "#### sentences are tokenized based on the full stops."
   ]
  },
  {
   "cell_type": "code",
   "execution_count": 115,
   "id": "84fb4eb2",
   "metadata": {},
   "outputs": [
    {
     "data": {
      "text/plain": [
       "\"india, officially the republic of india (iso: bhārat gaṇarājya), is a country in south asia. it is the seventh-largest country by area; the most populous country as of june 2023;and from the time of its independence in 1947, the world's most populous democracy.bounded by the indian ocean on the south, the arabian sea on the southwest, and the bay of bengal on the southeast, it shares land borders with pakistan to the west;[j] china, nepal, and bhutan to the north; and bangladesh and myanmar to the east. in the indian ocean, india is in the vicinity of sri lanka and the maldives; its andaman and nicobar islands share a maritime border with thailand, myanmar, and indonesia.\""
      ]
     },
     "execution_count": 115,
     "metadata": {},
     "output_type": "execute_result"
    }
   ],
   "source": [
    "lower_sentence"
   ]
  },
  {
   "cell_type": "code",
   "execution_count": 116,
   "id": "a3982293",
   "metadata": {},
   "outputs": [
    {
     "data": {
      "text/plain": [
       "['india, officially the republic of india (iso: bhārat gaṇarājya), is a country in south asia.',\n",
       " \"it is the seventh-largest country by area; the most populous country as of june 2023;and from the time of its independence in 1947, the world's most populous democracy.bounded by the indian ocean on the south, the arabian sea on the southwest, and the bay of bengal on the southeast, it shares land borders with pakistan to the west;[j] china, nepal, and bhutan to the north; and bangladesh and myanmar to the east.\",\n",
       " 'in the indian ocean, india is in the vicinity of sri lanka and the maldives; its andaman and nicobar islands share a maritime border with thailand, myanmar, and indonesia.']"
      ]
     },
     "execution_count": 116,
     "metadata": {},
     "output_type": "execute_result"
    }
   ],
   "source": [
    "sent_tokenize(lower_sentence)"
   ]
  },
  {
   "cell_type": "markdown",
   "id": "2ccea818",
   "metadata": {},
   "source": [
    "#### word tokenize"
   ]
  },
  {
   "cell_type": "code",
   "execution_count": 117,
   "id": "b7c2adac",
   "metadata": {},
   "outputs": [],
   "source": [
    "#clearing punctuations\n",
    "lower_sentence_clean=re.sub(pattern_to_find,\"\",lower_sentence)"
   ]
  },
  {
   "cell_type": "code",
   "execution_count": 118,
   "id": "8a594f5c",
   "metadata": {},
   "outputs": [
    {
     "data": {
      "text/plain": [
       "['india',\n",
       " 'officially',\n",
       " 'the',\n",
       " 'republic',\n",
       " 'of',\n",
       " 'india',\n",
       " 'iso',\n",
       " 'bhārat',\n",
       " 'gaṇarājya',\n",
       " 'is',\n",
       " 'a',\n",
       " 'country',\n",
       " 'in',\n",
       " 'south',\n",
       " 'asia',\n",
       " 'it',\n",
       " 'is',\n",
       " 'the',\n",
       " 'seventhlargest',\n",
       " 'country',\n",
       " 'by',\n",
       " 'area',\n",
       " 'the',\n",
       " 'most',\n",
       " 'populous',\n",
       " 'country',\n",
       " 'as',\n",
       " 'of',\n",
       " 'june',\n",
       " '2023and',\n",
       " 'from',\n",
       " 'the',\n",
       " 'time',\n",
       " 'of',\n",
       " 'its',\n",
       " 'independence',\n",
       " 'in',\n",
       " '1947',\n",
       " 'the',\n",
       " 'worlds',\n",
       " 'most',\n",
       " 'populous',\n",
       " 'democracybounded',\n",
       " 'by',\n",
       " 'the',\n",
       " 'indian',\n",
       " 'ocean',\n",
       " 'on',\n",
       " 'the',\n",
       " 'south',\n",
       " 'the',\n",
       " 'arabian',\n",
       " 'sea',\n",
       " 'on',\n",
       " 'the',\n",
       " 'southwest',\n",
       " 'and',\n",
       " 'the',\n",
       " 'bay',\n",
       " 'of',\n",
       " 'bengal',\n",
       " 'on',\n",
       " 'the',\n",
       " 'southeast',\n",
       " 'it',\n",
       " 'shares',\n",
       " 'land',\n",
       " 'borders',\n",
       " 'with',\n",
       " 'pakistan',\n",
       " 'to',\n",
       " 'the',\n",
       " 'westj',\n",
       " 'china',\n",
       " 'nepal',\n",
       " 'and',\n",
       " 'bhutan',\n",
       " 'to',\n",
       " 'the',\n",
       " 'north',\n",
       " 'and',\n",
       " 'bangladesh',\n",
       " 'and',\n",
       " 'myanmar',\n",
       " 'to',\n",
       " 'the',\n",
       " 'east',\n",
       " 'in',\n",
       " 'the',\n",
       " 'indian',\n",
       " 'ocean',\n",
       " 'india',\n",
       " 'is',\n",
       " 'in',\n",
       " 'the',\n",
       " 'vicinity',\n",
       " 'of',\n",
       " 'sri',\n",
       " 'lanka',\n",
       " 'and',\n",
       " 'the',\n",
       " 'maldives',\n",
       " 'its',\n",
       " 'andaman',\n",
       " 'and',\n",
       " 'nicobar',\n",
       " 'islands',\n",
       " 'share',\n",
       " 'a',\n",
       " 'maritime',\n",
       " 'border',\n",
       " 'with',\n",
       " 'thailand',\n",
       " 'myanmar',\n",
       " 'and',\n",
       " 'indonesia']"
      ]
     },
     "execution_count": 118,
     "metadata": {},
     "output_type": "execute_result"
    }
   ],
   "source": [
    "word_tokenize(lower_sentence_clean)"
   ]
  },
  {
   "cell_type": "markdown",
   "id": "a1dae12a",
   "metadata": {},
   "source": [
    "#### wordpunct tokenize"
   ]
  },
  {
   "cell_type": "code",
   "execution_count": 121,
   "id": "68320d2b",
   "metadata": {},
   "outputs": [
    {
     "data": {
      "text/plain": [
       "['india',\n",
       " ',',\n",
       " 'officially',\n",
       " 'the',\n",
       " 'republic',\n",
       " 'of',\n",
       " 'india',\n",
       " '(',\n",
       " 'iso',\n",
       " ':',\n",
       " 'bhārat',\n",
       " 'gaṇarājya',\n",
       " '),',\n",
       " 'is',\n",
       " 'a',\n",
       " 'country',\n",
       " 'in',\n",
       " 'south',\n",
       " 'asia',\n",
       " '.',\n",
       " 'it',\n",
       " 'is',\n",
       " 'the',\n",
       " 'seventh',\n",
       " '-',\n",
       " 'largest',\n",
       " 'country',\n",
       " 'by',\n",
       " 'area',\n",
       " ';',\n",
       " 'the',\n",
       " 'most',\n",
       " 'populous',\n",
       " 'country',\n",
       " 'as',\n",
       " 'of',\n",
       " 'june',\n",
       " '2023',\n",
       " ';',\n",
       " 'and',\n",
       " 'from',\n",
       " 'the',\n",
       " 'time',\n",
       " 'of',\n",
       " 'its',\n",
       " 'independence',\n",
       " 'in',\n",
       " '1947',\n",
       " ',',\n",
       " 'the',\n",
       " 'world',\n",
       " \"'\",\n",
       " 's',\n",
       " 'most',\n",
       " 'populous',\n",
       " 'democracy',\n",
       " '.',\n",
       " 'bounded',\n",
       " 'by',\n",
       " 'the',\n",
       " 'indian',\n",
       " 'ocean',\n",
       " 'on',\n",
       " 'the',\n",
       " 'south',\n",
       " ',',\n",
       " 'the',\n",
       " 'arabian',\n",
       " 'sea',\n",
       " 'on',\n",
       " 'the',\n",
       " 'southwest',\n",
       " ',',\n",
       " 'and',\n",
       " 'the',\n",
       " 'bay',\n",
       " 'of',\n",
       " 'bengal',\n",
       " 'on',\n",
       " 'the',\n",
       " 'southeast',\n",
       " ',',\n",
       " 'it',\n",
       " 'shares',\n",
       " 'land',\n",
       " 'borders',\n",
       " 'with',\n",
       " 'pakistan',\n",
       " 'to',\n",
       " 'the',\n",
       " 'west',\n",
       " ';[',\n",
       " 'j',\n",
       " ']',\n",
       " 'china',\n",
       " ',',\n",
       " 'nepal',\n",
       " ',',\n",
       " 'and',\n",
       " 'bhutan',\n",
       " 'to',\n",
       " 'the',\n",
       " 'north',\n",
       " ';',\n",
       " 'and',\n",
       " 'bangladesh',\n",
       " 'and',\n",
       " 'myanmar',\n",
       " 'to',\n",
       " 'the',\n",
       " 'east',\n",
       " '.',\n",
       " 'in',\n",
       " 'the',\n",
       " 'indian',\n",
       " 'ocean',\n",
       " ',',\n",
       " 'india',\n",
       " 'is',\n",
       " 'in',\n",
       " 'the',\n",
       " 'vicinity',\n",
       " 'of',\n",
       " 'sri',\n",
       " 'lanka',\n",
       " 'and',\n",
       " 'the',\n",
       " 'maldives',\n",
       " ';',\n",
       " 'its',\n",
       " 'andaman',\n",
       " 'and',\n",
       " 'nicobar',\n",
       " 'islands',\n",
       " 'share',\n",
       " 'a',\n",
       " 'maritime',\n",
       " 'border',\n",
       " 'with',\n",
       " 'thailand',\n",
       " ',',\n",
       " 'myanmar',\n",
       " ',',\n",
       " 'and',\n",
       " 'indonesia',\n",
       " '.']"
      ]
     },
     "execution_count": 121,
     "metadata": {},
     "output_type": "execute_result"
    }
   ],
   "source": [
    "wordpunct_tokenize(lower_sentence)"
   ]
  },
  {
   "cell_type": "markdown",
   "id": "edbb92fd",
   "metadata": {},
   "source": [
    "#### blankline tokenize"
   ]
  },
  {
   "cell_type": "code",
   "execution_count": 124,
   "id": "72e2f755",
   "metadata": {},
   "outputs": [
    {
     "data": {
      "text/plain": [
       "['india officially the republic of india iso bhārat gaṇarājya is a country in south asia it is the seventhlargest country by area the most populous country as of june 2023and from the time of its independence in 1947 the worlds most populous democracybounded by the indian ocean on the south the arabian sea on the southwest and the bay of bengal on the southeast it shares land borders with pakistan to the westj china nepal and bhutan to the north and bangladesh and myanmar to the east in the indian ocean india is in the vicinity of sri lanka and the maldives its andaman and nicobar islands share a maritime border with thailand myanmar and indonesia']"
      ]
     },
     "execution_count": 124,
     "metadata": {},
     "output_type": "execute_result"
    }
   ],
   "source": [
    "blankline_tokenize(lower_sentence_clean) # no blank line"
   ]
  },
  {
   "cell_type": "code",
   "execution_count": 126,
   "id": "0dfb9e98",
   "metadata": {},
   "outputs": [
    {
     "data": {
      "text/plain": [
       "[\"india, officially the republic of india (iso: bhārat gaṇarājya), is a country in south asia. it is the seventh-largest country by area; the most populous country as of june 2023;and from the time of its independence in 1947, the world's most populous democracy.bounded by the indian ocean on the south, the arabian sea on the southwest, and the bay of bengal on the southeast, it shares land borders with pakistan to the west;[j] china, nepal, and bhutan to the north; and bangladesh and myanmar to the east. in the indian ocean, india is in the vicinity of sri lanka and the maldives; its andaman and nicobar islands share a maritime border with thailand, myanmar, and indonesia.\"]"
      ]
     },
     "execution_count": 126,
     "metadata": {},
     "output_type": "execute_result"
    }
   ],
   "source": [
    "line_tokenize(lower_sentence) # no blank line"
   ]
  },
  {
   "cell_type": "markdown",
   "id": "d298a50a",
   "metadata": {},
   "source": [
    "## stemming and lemmatization"
   ]
  },
  {
   "cell_type": "code",
   "execution_count": 127,
   "id": "7bf57129",
   "metadata": {},
   "outputs": [],
   "source": [
    "#Stemming\n",
    "from nltk.stem import PorterStemmer\n"
   ]
  },
  {
   "cell_type": "code",
   "execution_count": 128,
   "id": "3d65b36e",
   "metadata": {},
   "outputs": [],
   "source": [
    "ps=PorterStemmer()"
   ]
  },
  {
   "cell_type": "code",
   "execution_count": 132,
   "id": "cdf718cf",
   "metadata": {},
   "outputs": [],
   "source": [
    "tokens=['run','running']"
   ]
  },
  {
   "cell_type": "code",
   "execution_count": 133,
   "id": "71c6efd5",
   "metadata": {},
   "outputs": [
    {
     "name": "stdout",
     "output_type": "stream",
     "text": [
      "run\n",
      "run\n"
     ]
    }
   ],
   "source": [
    "for i in tokens:\n",
    "    print(ps.stem(i))"
   ]
  },
  {
   "cell_type": "code",
   "execution_count": 134,
   "id": "624a1c3e",
   "metadata": {},
   "outputs": [],
   "source": [
    "tokens=['connected','connecting','connects','connectivity']"
   ]
  },
  {
   "cell_type": "code",
   "execution_count": 135,
   "id": "e56a20a9",
   "metadata": {},
   "outputs": [
    {
     "name": "stdout",
     "output_type": "stream",
     "text": [
      "connected : connect\n",
      "connecting : connect\n",
      "connects : connect\n",
      "connectivity : connect\n"
     ]
    }
   ],
   "source": [
    "for i in tokens:\n",
    "    print(i,':',ps.stem(i))"
   ]
  },
  {
   "cell_type": "code",
   "execution_count": 136,
   "id": "4ce29f36",
   "metadata": {},
   "outputs": [],
   "source": [
    "tokens=['learned','learns','learning','learner']"
   ]
  },
  {
   "cell_type": "code",
   "execution_count": 137,
   "id": "3c73b86a",
   "metadata": {},
   "outputs": [
    {
     "name": "stdout",
     "output_type": "stream",
     "text": [
      "learned : learn\n",
      "learns : learn\n",
      "learning : learn\n",
      "learner : learner\n"
     ]
    }
   ],
   "source": [
    "for i in tokens:\n",
    "    print(i,':',ps.stem(i))"
   ]
  },
  {
   "cell_type": "code",
   "execution_count": 138,
   "id": "ad1e2f63",
   "metadata": {},
   "outputs": [],
   "source": [
    "tokens=['likes','better','worst','best','worse','worsen']"
   ]
  },
  {
   "cell_type": "code",
   "execution_count": 139,
   "id": "f6f41afb",
   "metadata": {},
   "outputs": [
    {
     "name": "stdout",
     "output_type": "stream",
     "text": [
      "likes : like\n",
      "better : better\n",
      "worst : worst\n",
      "best : best\n",
      "worse : wors\n",
      "worsen : worsen\n"
     ]
    }
   ],
   "source": [
    "for i in tokens:\n",
    "    print(i,':',ps.stem(i))"
   ]
  },
  {
   "cell_type": "code",
   "execution_count": 140,
   "id": "7a74f086",
   "metadata": {},
   "outputs": [
    {
     "name": "stderr",
     "output_type": "stream",
     "text": [
      "[nltk_data] Downloading package wordnet to\n",
      "[nltk_data]     /Users/sakshisingh/nltk_data...\n"
     ]
    }
   ],
   "source": [
    "#lemmatization\n",
    "nltk.download('wordnet')\n",
    "from nltk.stem import WordNetLemmatizer"
   ]
  },
  {
   "cell_type": "code",
   "execution_count": 141,
   "id": "a34ef233",
   "metadata": {},
   "outputs": [],
   "source": [
    "lemmatizer=WordNetLemmatizer()"
   ]
  },
  {
   "cell_type": "code",
   "execution_count": 142,
   "id": "fdea3d83",
   "metadata": {},
   "outputs": [
    {
     "name": "stdout",
     "output_type": "stream",
     "text": [
      "likes : like\n",
      "better : better\n",
      "worst : worst\n",
      "best : best\n",
      "worse : worse\n",
      "worsen : worsen\n"
     ]
    }
   ],
   "source": [
    "tokens=['likes','better','worst','best','worse','worsen']\n",
    "\n",
    "for i in tokens:\n",
    "    print(i,':',lemmatizer.lemmatize(i))"
   ]
  },
  {
   "cell_type": "code",
   "execution_count": 143,
   "id": "06b41d99",
   "metadata": {},
   "outputs": [
    {
     "name": "stdout",
     "output_type": "stream",
     "text": [
      "run : run\n",
      "running : running\n"
     ]
    }
   ],
   "source": [
    "tokens=['run','running']\n",
    "for i in tokens:\n",
    "    print(i,':',lemmatizer.lemmatize(i))"
   ]
  },
  {
   "cell_type": "code",
   "execution_count": null,
   "id": "e33aeaf6",
   "metadata": {},
   "outputs": [],
   "source": [
    "#meaningful words"
   ]
  },
  {
   "cell_type": "markdown",
   "id": "e9403fe8",
   "metadata": {},
   "source": []
  },
  {
   "cell_type": "code",
   "execution_count": null,
   "id": "7f5ce6c8",
   "metadata": {},
   "outputs": [],
   "source": []
  }
 ],
 "metadata": {
  "kernelspec": {
   "display_name": "NLP",
   "language": "python",
   "name": "nlp"
  },
  "language_info": {
   "codemirror_mode": {
    "name": "ipython",
    "version": 3
   },
   "file_extension": ".py",
   "mimetype": "text/x-python",
   "name": "python",
   "nbconvert_exporter": "python",
   "pygments_lexer": "ipython3",
   "version": "3.10.9"
  }
 },
 "nbformat": 4,
 "nbformat_minor": 5
}
